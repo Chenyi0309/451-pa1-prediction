{
  "cells": [
    {
      "cell_type": "markdown",
      "metadata": {
        "id": "RWIZ7GS3fx6w"
      },
      "source": [
        "<h2><font color='#306998'><center>451 Financial Engineering: Programming Assignment 1</center></font></h2>\n",
        "<h3><center>Thomas W. Miller, June 18, 2025</center></h3>\n",
        "---"
      ]
    },
    {
      "cell_type": "markdown",
      "metadata": {
        "id": "VcCX1FWAfx6x"
      },
      "source": [
        "## Overview\n",
        "We use machine learing classifiers, including tree-based ensemble boosting methods, to predict the direction of oil futures (up or down) using a number of lagged price features. In particular, we look at daily closing spot prices for [West Texas Intermediate (ticker WTI)](https://en.wikipedia.org/wiki/West_Texas_Intermediate) with lags of one to seven days, as well as features based on opening, closing, high, and low price points, and daily trading volume.\n",
        "\n",
        "A model for predicting the direction of daily returns sets the stage for testing the predictive utility of additional features. The domain of potential features or leading indicators is wide, including those associated with other price series, economic indicators, international events, securities filings, analyst and news reports, and media measures."
      ]
    },
    {
      "cell_type": "markdown",
      "metadata": {
        "tags": [],
        "id": "q1elRBTGfx6x"
      },
      "source": [
        "### Import Libraries\n",
        "We draw on Python packages for data manipulation and modeling. Most important are Polars, a high-performance alternative to Pandas for data manipulation, and Scikit-Learn for machine learning study design and modeling algorithms."
      ]
    },
    {
      "cell_type": "code",
      "execution_count": null,
      "metadata": {
        "id": "zP-WzZXFfx6x"
      },
      "outputs": [],
      "source": [
        "#pip install polars"
      ]
    },
    {
      "cell_type": "code",
      "execution_count": null,
      "metadata": {
        "scrolled": true,
        "id": "WzjZYy4Efx6y"
      },
      "outputs": [],
      "source": [
        "import os\n",
        "# Ignore warnings\n",
        "import warnings\n",
        "warnings.filterwarnings('ignore')\n",
        "warnings.simplefilter(action='ignore', category=FutureWarning)\n",
        "\n",
        "# Import Python Packages for data manipulation, data pipelines, and databases\n",
        "import numpy as np\n",
        "import pyarrow # foundation for polars\n",
        "import polars as pl # DataFrame work superior to Pandas\n",
        "\n",
        "# Plotting\n",
        "import matplotlib.pyplot as plt\n",
        "# Display static plots directly in the notebook output\n",
        "%matplotlib inline\n",
        "# create stylized visualizations, including heat maps\n",
        "import seaborn as sns\n",
        "\n",
        "# Preprocessing\n",
        "from sklearn.preprocessing import MinMaxScaler, StandardScaler\n",
        "from sklearn.pipeline import Pipeline\n",
        "from sklearn.model_selection import (RandomizedSearchCV,\n",
        "                                    TimeSeriesSplit)\n",
        "from sklearn.model_selection import cross_validate\n",
        "\n",
        "# utilized in all possible subsets classification work\n",
        "from sklearn.linear_model import LogisticRegression\n",
        "from sklearn.metrics import log_loss\n",
        "\n",
        "# needed for randomized search\n",
        "from sklearn.model_selection import RandomizedSearchCV\n",
        "from scipy.stats import randint, uniform\n",
        "\n",
        "# metrics in xgboost tuning and final model evaluation\n",
        "from sklearn.metrics import (accuracy_score,\n",
        "                             classification_report,\n",
        "                             roc_curve,\n",
        "                             roc_auc_score,\n",
        "                             RocCurveDisplay,\n",
        "                             ConfusionMatrixDisplay,\n",
        "                             confusion_matrix,\n",
        "                             precision_score,\n",
        "                             recall_score,\n",
        "                             f1_score\n",
        "                            )\n",
        "\n",
        "# XGBoost Package... more complete than SciKit-Learn boosting methods\n",
        "import xgboost as xgb\n",
        "from xgboost import XGBRegressor, XGBClassifier, plot_importance\n",
        "\n",
        "# import yfinance as yf  # used earlier to obtain the price series\n",
        "# import yfinance as yf\n",
        "\n",
        "import warnings\n",
        "# Suppress warnings for cleaner output\n",
        "warnings.filterwarnings('ignore')"
      ]
    },
    {
      "cell_type": "markdown",
      "metadata": {
        "id": "w0xBtODTfx6y"
      },
      "source": [
        "### Retrieve Data\n",
        "In previous work, we retrieved price data for WTI from Yahoo Finance. The code is shown in the next commented-out cell."
      ]
    },
    {
      "cell_type": "code",
      "execution_count": null,
      "metadata": {
        "id": "N_lMsDCBfx6y"
      },
      "outputs": [],
      "source": [
        "#pip install yfinance"
      ]
    },
    {
      "cell_type": "code",
      "execution_count": null,
      "metadata": {
        "colab": {
          "base_uri": "https://localhost:8080/",
          "height": 71
        },
        "id": "3zI152mdfx6y",
        "outputId": "8e83b133-a495-4a7c-cd2e-a01191881fd7"
      },
      "outputs": [
        {
          "output_type": "execute_result",
          "data": {
            "text/plain": [
              "'\\nPrevious work to retrieve data from Yahoo Finance\\n\\nsymbol = \\'WTI\\'\\nstart_date = \\'2000-01-01\\'\\nend_date = \\'2025-05-27\\'\\n\\nsymbol = \\'WTI\\'\\nticker = yf.Ticker(symbol)\\nhistorical_data = ticker.history(start = start_date, end = end_date, period = \\'1mo\\')\\nprint(historical_data)\\n\\nprint(\"type of historical_data\", type(historical_data))\\n\\nhistorical_data.to_csv(\"wti_historical_data.csv\")\\n'"
            ],
            "application/vnd.google.colaboratory.intrinsic+json": {
              "type": "string"
            }
          },
          "metadata": {},
          "execution_count": 4
        }
      ],
      "source": [
        "'''\n",
        "Previous work to retrieve data from Yahoo Finance\n",
        "\n",
        "symbol = 'WTI'\n",
        "start_date = '2000-01-01'\n",
        "end_date = '2025-05-27'\n",
        "\n",
        "symbol = 'WTI'\n",
        "ticker = yf.Ticker(symbol)\n",
        "historical_data = ticker.history(start = start_date, end = end_date, period = '1mo')\n",
        "print(historical_data)\n",
        "\n",
        "print(\"type of historical_data\", type(historical_data))\n",
        "\n",
        "historical_data.to_csv(\"wti_historical_data.csv\")\n",
        "'''"
      ]
    },
    {
      "cell_type": "code",
      "execution_count": null,
      "metadata": {
        "colab": {
          "base_uri": "https://localhost:8080/"
        },
        "id": "OBcmvJbUfx6y",
        "outputId": "d2c9b6d8-e756-48db-b7ad-e97851181abd"
      },
      "outputs": [
        {
          "output_type": "stream",
          "name": "stdout",
          "text": [
            "Saved file: 451_pa1_wti_historical_data.csv\n",
            "                                Open       High        Low      Close  Volume  \\\n",
            "Date                                                                            \n",
            "2000-08-23 00:00:00-04:00  31.950001  32.799999  31.950001  32.049999   79385   \n",
            "2000-08-24 00:00:00-04:00  31.900000  32.240002  31.400000  31.629999   72978   \n",
            "2000-08-25 00:00:00-04:00  31.700001  32.099998  31.320000  32.049999   44601   \n",
            "2000-08-28 00:00:00-04:00  32.040001  32.919998  31.860001  32.869999   46770   \n",
            "2000-08-29 00:00:00-04:00  32.820000  33.029999  32.560001  32.720001   49131   \n",
            "\n",
            "                           Dividends  Stock Splits  \n",
            "Date                                                \n",
            "2000-08-23 00:00:00-04:00        0.0           0.0  \n",
            "2000-08-24 00:00:00-04:00        0.0           0.0  \n",
            "2000-08-25 00:00:00-04:00        0.0           0.0  \n",
            "2000-08-28 00:00:00-04:00        0.0           0.0  \n",
            "2000-08-29 00:00:00-04:00        0.0           0.0  \n"
          ]
        }
      ],
      "source": [
        "import yfinance as yf\n",
        "\n",
        "# Use CL=F for WTI Crude Oil Futures\n",
        "symbol = 'CL=F'\n",
        "start_date = '2000-01-01'\n",
        "end_date = '2025-05-27'\n",
        "\n",
        "# Fetch historical data from Yahoo Finance\n",
        "ticker = yf.Ticker(symbol)\n",
        "historical_data = ticker.history(start=start_date, end=end_date, interval='1d')  # Use daily data\n",
        "\n",
        "# Save data to the exact filename expected later\n",
        "historical_data.to_csv(\"451_pa1_wti_historical_data.csv\")\n",
        "\n",
        "# Confirm it worked\n",
        "print(\"Saved file: 451_pa1_wti_historical_data.csv\")\n",
        "print(historical_data.head())\n"
      ]
    },
    {
      "cell_type": "markdown",
      "metadata": {
        "id": "RlVS3IQvfx6y"
      },
      "source": [
        "### Polars DataFrame Development\n",
        "The following code cell demonstrates Polars use with the time series DataFrame for our selected market/ticker, WTI."
      ]
    },
    {
      "cell_type": "code",
      "execution_count": null,
      "metadata": {
        "colab": {
          "base_uri": "https://localhost:8080/"
        },
        "id": "lJ0mfKdIfx6y",
        "outputId": "0a9ca3ce-4e26-4cfd-b955-a3fb2fe78929"
      },
      "outputs": [
        {
          "output_type": "stream",
          "name": "stdout",
          "text": [
            "Schema([('Date', Datetime(time_unit='us', time_zone='UTC')), ('Open', Float64), ('High', Float64), ('Low', Float64), ('Close', Float64), ('Volume', Int64), ('Dividends', Float64), ('Stock Splits', Float64)])\n",
            "Schema([('Date', Datetime(time_unit='us', time_zone='UTC')), ('Open', Float64), ('High', Float64), ('Low', Float64), ('Close', Float64), ('Volume', Float64), ('CloseLag1', Float64), ('CloseLag2', Float64), ('CloseLag3', Float64), ('HML', Float64), ('HMLLag1', Float64), ('HMLLag2', Float64), ('HMLLag3', Float64), ('OMC', Float64), ('OMCLag1', Float64), ('OMCLag2', Float64), ('OMCLag3', Float64), ('VolumeLag1', Float64), ('VolumeLag2', Float64), ('VolumeLag3', Float64), ('CloseEMA2', Float64), ('CloseEMA4', Float64), ('CloseEMA8', Float64), ('LogReturn', Float64), ('Target', Int32)])\n"
          ]
        }
      ],
      "source": [
        "wti = pl.read_csv(\"451_pa1_wti_historical_data.csv\", try_parse_dates=True)\n",
        "\n",
        "# check the original schema\n",
        "print(wti.schema)\n",
        "\n",
        "# drop useless columns Dividends and StockSplits\n",
        "wti = wti.drop(['Dividends', 'Stock Splits'])\n",
        "\n",
        "# create lag price features\n",
        "wti = wti.with_columns((pl.col('Close')).shift().alias('CloseLag1'))\n",
        "wti = wti.with_columns((pl.col('CloseLag1')).shift().alias('CloseLag2'))\n",
        "wti = wti.with_columns((pl.col('CloseLag2')).shift().alias('CloseLag3'))\n",
        "\n",
        "# create high-minus-low (HML) for day and its lags\n",
        "wti = wti.with_columns((pl.col('High') - pl.col('Low')).alias('HML'))\n",
        "wti = wti.with_columns((pl.col('HML')).shift().alias('HMLLag1'))\n",
        "wti = wti.with_columns((pl.col('HMLLag1')).shift().alias('HMLLag2'))\n",
        "wti = wti.with_columns((pl.col('HMLLag2')).shift().alias('HMLLag3'))\n",
        "\n",
        "# create a net change for the day as the open minus closing price OMC\n",
        "# also create the corresponding lag metrics\n",
        "wti = wti.with_columns((pl.col('Open') - pl.col('Close')).alias('OMC'))\n",
        "wti = wti.with_columns((pl.col('OMC')).shift().alias('OMCLag1'))\n",
        "wti = wti.with_columns((pl.col('OMCLag1')).shift().alias('OMCLag2'))\n",
        "wti = wti.with_columns((pl.col('OMCLag2')).shift().alias('OMCLag3'))\n",
        "\n",
        "# create volume lag metrics\n",
        "wti = wti.with_columns((pl.col('Volume')).shift().alias('VolumeLag1'))\n",
        "wti = wti.with_columns((pl.col('VolumeLag1')).shift().alias('VolumeLag2'))\n",
        "wti = wti.with_columns((pl.col('VolumeLag2')).shift().alias('VolumeLag3'))\n",
        "\n",
        "# compute 10-day exponential moving averages of closing prices\n",
        "# compute acround CloseLag1 to avoid any \"leakage\" in explanatory variable set\n",
        "# note also the 10-day buffer between train and test in time-series cross-validation\n",
        "wti = wti.with_columns((pl.col('CloseLag1').ewm_mean(half_life=1,ignore_nulls=True)).alias('CloseEMA2'))\n",
        "wti = wti.with_columns((pl.col('CloseLag1').ewm_mean(half_life=2,ignore_nulls=True)).alias('CloseEMA4'))\n",
        "wti = wti.with_columns((pl.col('CloseLag1').ewm_mean(half_life=4,ignore_nulls=True)).alias('CloseEMA8'))\n",
        "\n",
        "# log daily returns\n",
        "wti = wti.with_columns(np.log(pl.col('Close')/pl.col('CloseLag1')).alias('LogReturn'))\n",
        "\n",
        "# set volume features to Float64 for subsequent use in Numpy arrays\n",
        "wti = wti.with_columns(\n",
        "    pl.col('Volume').cast(pl.Float64).round(0),\n",
        "    pl.col('VolumeLag1').cast(pl.Float64).round(0),\n",
        "    pl.col('VolumeLag2').cast(pl.Float64).round(0),\n",
        "    pl.col('VolumeLag3').cast(pl.Float64).round(0),\n",
        "    )\n",
        "\n",
        "# round other features to three decimal places for reporting and subsequent analytics\n",
        "wti = wti.with_columns(\n",
        "    pl.col('Open').round(3),\n",
        "    pl.col('High').round(3),\n",
        "    pl.col('Low').round(3),\n",
        "    pl.col('Close').round(3),\n",
        "    pl.col('CloseLag1').round(3),\n",
        "    pl.col('CloseLag2').round(3),\n",
        "    pl.col('CloseLag3').round(3),\n",
        "    pl.col('HML').round(3),\n",
        "    pl.col('HMLLag1').round(3),\n",
        "    pl.col('HMLLag2').round(3),\n",
        "    pl.col('HMLLag3').round(3),\n",
        "    pl.col('OMC').round(3),\n",
        "    pl.col('OMCLag1').round(3),\n",
        "    pl.col('OMCLag2').round(3),\n",
        "    pl.col('OMCLag3').round(3),\n",
        "    pl.col('CloseEMA2').round(3),\n",
        "    pl.col('CloseEMA4').round(3),\n",
        "    pl.col('CloseEMA8').round(3))\n",
        "\n",
        "# define binary target/response 1 = market price up since previous day, 0 = even or down\n",
        "wti = wti.with_columns(pl.when(pl.col('LogReturn')>0.0).then(pl.lit(1)).otherwise(pl.lit(0)).alias('Target'))\n",
        "\n",
        "print(wti.schema)\n",
        "\n",
        "# save to external comma-delimited text file for checking calculations in Excel\n",
        "wti.write_csv(\"wti-with-computed-features.csv\")"
      ]
    },
    {
      "cell_type": "markdown",
      "metadata": {
        "id": "k_55N0fGfx6z"
      },
      "source": [
        "### Descriptive Statistics for Price Features"
      ]
    },
    {
      "cell_type": "code",
      "execution_count": null,
      "metadata": {
        "colab": {
          "base_uri": "https://localhost:8080/"
        },
        "id": "JExmVWn4fx6z",
        "outputId": "f1b8adc4-4c16-4f14-ced0-41716ec3d558"
      },
      "outputs": [
        {
          "output_type": "stream",
          "name": "stdout",
          "text": [
            "['statistic', 'Open', 'High', 'Low', 'Close', 'Volume', 'CloseLag1', 'CloseLag2', 'CloseLag3', 'HML', 'HMLLag1', 'HMLLag2', 'HMLLag3', 'OMC', 'OMCLag1', 'OMCLag2', 'OMCLag3', 'VolumeLag1', 'VolumeLag2', 'VolumeLag3', 'CloseEMA2', 'CloseEMA4', 'CloseEMA8', 'LogReturn', 'Target']\n",
            "Schema([('column', String), ('column_0', String), ('column_2', String), ('column_3', String), ('column_4', String), ('column_6', String), ('column_8', String)])\n",
            "┌────────────┬──────────┬──────────────────────┬────────────────────┬─────────────────────┬───────────────────────┬────────────────────┐\n",
            "│ column     ┆ column_0 ┆ column_2             ┆ column_3           ┆ column_4            ┆ column_6              ┆ column_8           │\n",
            "╞════════════╪══════════╪══════════════════════╪════════════════════╪═════════════════════╪═══════════════════════╪════════════════════╡\n",
            "│ statistic  ┆ count    ┆ mean                 ┆ std                ┆ min                 ┆ 50%                   ┆ max                │\n",
            "│ Open       ┆ 6211.0   ┆ 64.73666720334889    ┆ 24.865962488932208 ┆ -14.0               ┆ 63.92                 ┆ 145.19             │\n",
            "│ High       ┆ 6211.0   ┆ 65.73353405248751    ┆ 25.12983444785135  ┆ 13.69               ┆ 64.9                  ┆ 147.27             │\n",
            "│ Low        ┆ 6211.0   ┆ 63.66648526807277    ┆ 24.572764471665284 ┆ -40.32              ┆ 63.06                 ┆ 143.22             │\n",
            "│ Close      ┆ 6211.0   ┆ 64.7268926098857     ┆ 24.873060413550448 ┆ -37.63              ┆ 63.91                 ┆ 145.29             │\n",
            "│ Volume     ┆ 6211.0   ┆ 303843.58138786023   ┆ 209075.15963995128 ┆ 0.0                 ┆ 276216.0              ┆ 2288230.0          │\n",
            "│ CloseLag1  ┆ 6211.0   ┆ 64.72214619223958    ┆ 24.87648309528939  ┆ -37.63              ┆ 63.91                 ┆ 145.29             │\n",
            "│ CloseLag2  ┆ 6211.0   ┆ 64.71738528417325    ┆ 24.87998661315345  ┆ -37.63              ┆ 63.91                 ┆ 145.29             │\n",
            "│ CloseLag3  ┆ 6211.0   ┆ 64.71263242634036    ┆ 24.883407347090976 ┆ -37.63              ┆ 63.91                 ┆ 145.29             │\n",
            "│ HML        ┆ 6211.0   ┆ 2.0670487844147476   ┆ 1.5897291317814215 ┆ 0.02                ┆ 1.73                  ┆ 58.17              │\n",
            "│ HMLLag1    ┆ 6211.0   ┆ 2.066874899372082    ┆ 1.5898108457452051 ┆ 0.02                ┆ 1.73                  ┆ 58.17              │\n",
            "│ HMLLag2    ┆ 6211.0   ┆ 2.0667686362904525   ┆ 1.5898707979048652 ┆ 0.02                ┆ 1.73                  ┆ 58.17              │\n",
            "│ HMLLag3    ┆ 6211.0   ┆ 2.0664369666720335   ┆ 1.5899097316901674 ┆ 0.02                ┆ 1.73                  ┆ 58.17              │\n",
            "│ OMC        ┆ 6211.0   ┆ 0.009774593463210458 ┆ 1.63632432857363   ┆ -24.01              ┆ -0.05                 ┆ 55.36              │\n",
            "│ OMCLag1    ┆ 6211.0   ┆ 0.00983416519079054  ┆ 1.6363044912097886 ┆ -24.01              ┆ -0.05                 ┆ 55.36              │\n",
            "│ OMCLag2    ┆ 6211.0   ┆ 0.009856705844469548 ┆ 1.6363071110736251 ┆ -24.01              ┆ -0.05                 ┆ 55.36              │\n",
            "│ OMCLag3    ┆ 6211.0   ┆ 0.009727902109161123 ┆ 1.6362842632137584 ┆ -24.01              ┆ -0.05                 ┆ 55.36              │\n",
            "│ VolumeLag1 ┆ 6211.0   ┆ 303806.74496860406   ┆ 209100.67918438712 ┆ 0.0                 ┆ 276216.0              ┆ 2288230.0          │\n",
            "│ VolumeLag2 ┆ 6211.0   ┆ 303776.86717114795   ┆ 209120.40389950093 ┆ 0.0                 ┆ 276216.0              ┆ 2288230.0          │\n",
            "│ VolumeLag3 ┆ 6211.0   ┆ 303740.91209145065   ┆ 209139.78582263936 ┆ 0.0                 ┆ 276116.0              ┆ 2288230.0          │\n",
            "│ CloseEMA2  ┆ 6211.0   ┆ 64.7173604894542     ┆ 24.843495080155765 ┆ -9.171              ┆ 63.926                ┆ 143.773            │\n",
            "│ CloseEMA4  ┆ 6211.0   ┆ 64.71061890194817    ┆ 24.814592231389486 ┆ 3.373               ┆ 64.021                ┆ 142.412            │\n",
            "│ CloseEMA8  ┆ 6211.0   ┆ 64.69735469328612    ┆ 24.760928552894523 ┆ 11.945              ┆ 63.863                ┆ 140.903            │\n",
            "│ LogReturn  ┆ 6211.0   ┆ NaN                  ┆ NaN                ┆ -0.2822061341074851 ┆ 0.0010621303186363427 ┆ 0.3196336300150674 │\n",
            "│ Target     ┆ 6211.0   ┆ 0.5200450813073579   ┆ 0.4996382568032499 ┆ 0.0                 ┆ 1.0                   ┆ 1.0                │\n",
            "└────────────┴──────────┴──────────────────────┴────────────────────┴─────────────────────┴───────────────────────┴────────────────────┘\n"
          ]
        }
      ],
      "source": [
        "# Drop the rows with null values such as the initial lag rows\n",
        "wti = wti.drop_nulls()\n",
        "\n",
        "# Descriptive statistics\n",
        "wtiStatistics = wti.drop('Date').describe()\n",
        "\n",
        "print(wtiStatistics.columns)\n",
        "\n",
        "wtiStatisticsToPrint = wtiStatistics.transpose(include_header=True).drop(['column_1', 'column_5', 'column_7'])\n",
        "\n",
        "print(wtiStatisticsToPrint.schema)\n",
        "\n",
        "with pl.Config(\n",
        "    tbl_rows = 60,\n",
        "    tbl_width_chars = 200,\n",
        "    tbl_cols = -1,\n",
        "    float_precision = 3,\n",
        "    tbl_hide_dataframe_shape = True,\n",
        "    tbl_hide_column_data_types = True):\n",
        "    print(wtiStatisticsToPrint)\n",
        "\n"
      ]
    },
    {
      "cell_type": "markdown",
      "metadata": {
        "id": "kmQOZMYifx6z"
      },
      "source": [
        "### Feature List\n",
        "Features or explanatory variables, also known as an independent variables, are used to predict the values of target variables. The initial list of featrues includes the price-based features defined above, everything except the continuous response **LogReturn** if we wanted to employ regression and the binary response **Target** for classification, which is the focus of this project. This complete feature list is used in evaluating all methods."
      ]
    },
    {
      "cell_type": "code",
      "execution_count": null,
      "metadata": {
        "colab": {
          "base_uri": "https://localhost:8080/",
          "height": 255
        },
        "id": "VMmEeEv9fx6z",
        "outputId": "ea8561e4-9665-4477-fba0-8b4b1e1a13e7"
      },
      "outputs": [
        {
          "output_type": "execute_result",
          "data": {
            "text/plain": [
              "shape: (5, 15)\n",
              "┌───────────┬───────────┬───────────┬─────────┬───┬────────────┬───────────┬───────────┬───────────┐\n",
              "│ CloseLag1 ┆ CloseLag2 ┆ CloseLag3 ┆ HMLLag1 ┆ … ┆ VolumeLag3 ┆ CloseEMA2 ┆ CloseEMA4 ┆ CloseEMA8 │\n",
              "│ ---       ┆ ---       ┆ ---       ┆ ---     ┆   ┆ ---        ┆ ---       ┆ ---       ┆ ---       │\n",
              "│ f64       ┆ f64       ┆ f64       ┆ f64     ┆   ┆ f64        ┆ f64       ┆ f64       ┆ f64       │\n",
              "╞═══════════╪═══════════╪═══════════╪═════════╪═══╪════════════╪═══════════╪═══════════╪═══════════╡\n",
              "│ 32.05     ┆ 31.63     ┆ 32.05     ┆ 0.78    ┆ … ┆ 79385.0    ┆ 31.93     ┆ 31.915    ┆ 31.911    │\n",
              "│ 32.87     ┆ 32.05     ┆ 31.63     ┆ 1.06    ┆ … ┆ 72978.0    ┆ 32.431    ┆ 32.288    ┆ 32.216    │\n",
              "│ 32.72     ┆ 32.87     ┆ 32.05     ┆ 0.47    ┆ … ┆ 44601.0    ┆ 32.58     ┆ 32.442    ┆ 32.355    │\n",
              "│ 33.4      ┆ 32.72     ┆ 32.87     ┆ 1.3     ┆ … ┆ 46770.0    ┆ 32.997    ┆ 32.763    ┆ 32.612    │\n",
              "│ 33.1      ┆ 33.4      ┆ 32.72     ┆ 0.73    ┆ … ┆ 49131.0    ┆ 33.049    ┆ 32.871    ┆ 32.722    │\n",
              "└───────────┴───────────┴───────────┴─────────┴───┴────────────┴───────────┴───────────┴───────────┘"
            ],
            "text/html": [
              "<div><style>\n",
              ".dataframe > thead > tr,\n",
              ".dataframe > tbody > tr {\n",
              "  text-align: right;\n",
              "  white-space: pre-wrap;\n",
              "}\n",
              "</style>\n",
              "<small>shape: (5, 15)</small><table border=\"1\" class=\"dataframe\"><thead><tr><th>CloseLag1</th><th>CloseLag2</th><th>CloseLag3</th><th>HMLLag1</th><th>HMLLag2</th><th>HMLLag3</th><th>OMCLag1</th><th>OMCLag2</th><th>OMCLag3</th><th>VolumeLag1</th><th>VolumeLag2</th><th>VolumeLag3</th><th>CloseEMA2</th><th>CloseEMA4</th><th>CloseEMA8</th></tr><tr><td>f64</td><td>f64</td><td>f64</td><td>f64</td><td>f64</td><td>f64</td><td>f64</td><td>f64</td><td>f64</td><td>f64</td><td>f64</td><td>f64</td><td>f64</td><td>f64</td><td>f64</td></tr></thead><tbody><tr><td>32.05</td><td>31.63</td><td>32.05</td><td>0.78</td><td>0.84</td><td>0.85</td><td>-0.35</td><td>0.27</td><td>-0.1</td><td>44601.0</td><td>72978.0</td><td>79385.0</td><td>31.93</td><td>31.915</td><td>31.911</td></tr><tr><td>32.87</td><td>32.05</td><td>31.63</td><td>1.06</td><td>0.78</td><td>0.84</td><td>-0.83</td><td>-0.35</td><td>0.27</td><td>46770.0</td><td>44601.0</td><td>72978.0</td><td>32.431</td><td>32.288</td><td>32.216</td></tr><tr><td>32.72</td><td>32.87</td><td>32.05</td><td>0.47</td><td>1.06</td><td>0.78</td><td>0.1</td><td>-0.83</td><td>-0.35</td><td>49131.0</td><td>46770.0</td><td>44601.0</td><td>32.58</td><td>32.442</td><td>32.355</td></tr><tr><td>33.4</td><td>32.72</td><td>32.87</td><td>1.3</td><td>0.47</td><td>1.06</td><td>-0.65</td><td>0.1</td><td>-0.83</td><td>79214.0</td><td>49131.0</td><td>46770.0</td><td>32.997</td><td>32.763</td><td>32.612</td></tr><tr><td>33.1</td><td>33.4</td><td>32.72</td><td>0.73</td><td>1.3</td><td>0.47</td><td>0.15</td><td>-0.65</td><td>0.1</td><td>56895.0</td><td>79214.0</td><td>49131.0</td><td>33.049</td><td>32.871</td><td>32.722</td></tr></tbody></table></div>"
            ]
          },
          "metadata": {},
          "execution_count": 8
        }
      ],
      "source": [
        "# Select Features for the Model, exclude current day price variables ... no \"leakage\"\n",
        "# note for moving averages, we have excluded the current day, and provide a 10-day gap\n",
        "# so these may be included in the set\n",
        "X = wti.drop(['Date', 'LogReturn', 'Target', 'Open', 'High', 'Low', 'Close', 'Volume', 'HML', 'OMC'])\n",
        "X.head()"
      ]
    },
    {
      "cell_type": "markdown",
      "metadata": {
        "id": "ZwAVMIFLfx6z"
      },
      "source": [
        "### Examine the Distribution of LogReturn Values"
      ]
    },
    {
      "cell_type": "code",
      "execution_count": null,
      "metadata": {
        "colab": {
          "base_uri": "https://localhost:8080/"
        },
        "id": "HLsUotNYfx6z",
        "outputId": "244d6e93-90a0-44f6-bae3-d4d4364081be"
      },
      "outputs": [
        {
          "output_type": "stream",
          "name": "stdout",
          "text": [
            "shape: (9, 2)\n",
            "┌────────────┬───────────┐\n",
            "│ statistic  ┆ value     │\n",
            "│ ---        ┆ ---       │\n",
            "│ str        ┆ f64       │\n",
            "╞════════════╪═══════════╡\n",
            "│ count      ┆ 6211.0    │\n",
            "│ null_count ┆ 0.0       │\n",
            "│ mean       ┆ NaN       │\n",
            "│ std        ┆ NaN       │\n",
            "│ min        ┆ -0.282206 │\n",
            "│ 25%        ┆ -0.012748 │\n",
            "│ 50%        ┆ 0.001062  │\n",
            "│ 75%        ┆ 0.013487  │\n",
            "│ max        ┆ 0.319634  │\n",
            "└────────────┴───────────┘\n"
          ]
        }
      ],
      "source": [
        "# Define and examine the target for regression model development\n",
        "print(wti['LogReturn'].describe())\n",
        "\n",
        "y = np.array(wti['LogReturn'])\n"
      ]
    },
    {
      "cell_type": "markdown",
      "metadata": {
        "id": "URFew-qrfx6z"
      },
      "source": [
        "### Standardize All Features\n",
        "Standardization is carried out for the complete set of features."
      ]
    },
    {
      "cell_type": "code",
      "execution_count": null,
      "metadata": {
        "colab": {
          "base_uri": "https://localhost:8080/"
        },
        "id": "RRdn4T1ifx6z",
        "outputId": "e96a7b07-e4cf-4ec3-cb81-3a4b5d7f8018"
      },
      "outputs": [
        {
          "output_type": "stream",
          "name": "stdout",
          "text": [
            "Feature names correspond to Numpy array columns: ['CloseLag1', 'CloseLag2', 'CloseLag3', 'HMLLag1', 'HMLLag2', 'HMLLag3', 'OMCLag1', 'OMCLag2', 'OMCLag3', 'VolumeLag1', 'VolumeLag2', 'VolumeLag3', 'CloseEMA2', 'CloseEMA4', 'CloseEMA8']\n"
          ]
        }
      ],
      "source": [
        "# Standardize features\n",
        "featureNames = X.columns\n",
        "print(\"Feature names correspond to Numpy array columns:\",featureNames)\n",
        "scaler = StandardScaler()\n",
        "X = scaler.fit_transform(np.array(X))"
      ]
    },
    {
      "cell_type": "markdown",
      "metadata": {
        "id": "UG8i8Jf1fx6z"
      },
      "source": [
        "### Target Definition for Classification (Target)\n",
        "\n",
        "Identify the binary target variable for model development."
      ]
    },
    {
      "cell_type": "code",
      "execution_count": null,
      "metadata": {
        "colab": {
          "base_uri": "https://localhost:8080/"
        },
        "id": "5_GBXipVfx6z",
        "outputId": "3556be0a-7907-4567-8d13-cfd5f034133c"
      },
      "outputs": [
        {
          "output_type": "stream",
          "name": "stdout",
          "text": [
            "shape: (2, 2)\n",
            "┌────────┬───────┐\n",
            "│ Target ┆ count │\n",
            "│ ---    ┆ ---   │\n",
            "│ i32    ┆ u32   │\n",
            "╞════════╪═══════╡\n",
            "│ 0      ┆ 2981  │\n",
            "│ 1      ┆ 3230  │\n",
            "└────────┴───────┘\n"
          ]
        }
      ],
      "source": [
        "# Define and examine the target for classification model development\n",
        "print(wti['Target'].value_counts())\n",
        "\n",
        "y = np.array(wti['Target'])"
      ]
    },
    {
      "cell_type": "markdown",
      "metadata": {
        "id": "2PqRGTcifx6z"
      },
      "source": [
        "### Feature Selection Using All Possible Classifications\n",
        "We draw on traditional applied statistis, selecting the best combination of features using the Akaike Information Criterion (AIC)."
      ]
    },
    {
      "cell_type": "code",
      "execution_count": null,
      "metadata": {
        "id": "2fYWlhm7fx6z"
      },
      "outputs": [],
      "source": [
        "# Polars DataFrame for storing results from all possible subsets\n",
        "resultsSchema = {\"trialNumber\": pl.Int64, \"features\": pl.String, 'aic': pl.Float64}\n",
        "resultsDataFrame = pl.DataFrame(schema = resultsSchema)\n",
        "\n",
        "def getAIC(X, y):\n",
        "    model = LogisticRegression()\n",
        "    model.fit(X, y)\n",
        "    # Calculate log-likelihood\n",
        "    loglik = -log_loss(y, model.predict_proba(X)) * len(y)\n",
        "    # Calculate the number of parameters\n",
        "    k = X.shape[1] + 1\n",
        "    # Calculate AIC... smaller is better\n",
        "    aic = 2 * k -2 * loglik\n",
        "    # print(f\"AIC: {aic}\") # print for initial testing\n",
        "    return aic\n",
        "\n",
        "from itertools import chain, combinations\n",
        "\n",
        "def powerset(iterable):\n",
        "    s = list(iterable)\n",
        "    return chain.from_iterable(combinations(s, r) for r in range(1, len(s)))\n",
        "\n",
        "trialNumber = 0 # initialize count\n",
        "for c in powerset(range(X.shape[1])):\n",
        "    trialNumber = trialNumber + 1\n",
        "    # print(c)\n",
        "    thisAIC = getAIC(X[:,c], y)\n",
        "    thisTrialDataFrame = pl.DataFrame({\"trialNumber\": trialNumber,\n",
        "                                       \"features\": ' '.join(map(str, c)),\n",
        "                                       \"aic\": thisAIC},\n",
        "                                        schema=resultsSchema)\n",
        "    resultsDataFrame = pl.concat([resultsDataFrame,thisTrialDataFrame])\n",
        "\n",
        "# one more set of features... all features\n",
        "trialNumber = trialNumber + 1\n",
        "thisAIC = getAIC(X, y)\n",
        "thisTrialDataFrame = pl.DataFrame({\"trialNumber\": trialNumber,\n",
        "                                   \"features\": \"0 1 2 3 4 5 6 7 8 9 10 11 12 13 14\",\n",
        "                                   \"aic\": thisAIC},\n",
        "                                    schema=resultsSchema, strict=False)\n",
        "resultsDataFrame = pl.concat([resultsDataFrame,thisTrialDataFrame])\n"
      ]
    },
    {
      "cell_type": "code",
      "execution_count": null,
      "metadata": {
        "id": "15RyxRmIfx6z",
        "colab": {
          "base_uri": "https://localhost:8080/"
        },
        "outputId": "d2f3593c-a3c4-4f50-f87b-fda62234b451"
      },
      "outputs": [
        {
          "output_type": "stream",
          "name": "stdout",
          "text": [
            "shape: (10, 3)\n",
            "┌─────────────┬──────────┬─────────────┐\n",
            "│ trialNumber ┆ features ┆ aic         │\n",
            "│ ---         ┆ ---      ┆ ---         │\n",
            "│ i64         ┆ str      ┆ f64         │\n",
            "╞═════════════╪══════════╪═════════════╡\n",
            "│ 7           ┆ 6        ┆ 8600.155545 │\n",
            "│ 34          ┆ 1 6      ┆ 8600.681243 │\n",
            "│ 92          ┆ 6 14     ┆ 8600.739114 │\n",
            "│ 21          ┆ 0 6      ┆ 8600.750865 │\n",
            "│ 90          ┆ 6 12     ┆ 8600.760876 │\n",
            "│ 91          ┆ 6 13     ┆ 8600.779395 │\n",
            "│ 46          ┆ 2 6      ┆ 8600.868937 │\n",
            "│ 85          ┆ 6 7      ┆ 8601.031285 │\n",
            "│ 87          ┆ 6 9      ┆ 8601.239784 │\n",
            "│ 57          ┆ 3 6      ┆ 8601.293961 │\n",
            "└─────────────┴──────────┴─────────────┘\n"
          ]
        }
      ],
      "source": [
        "print(resultsDataFrame.sort('aic').head(10))"
      ]
    },
    {
      "cell_type": "markdown",
      "metadata": {
        "id": "tmfrReyhfx6z"
      },
      "source": [
        "### Selected Feature Subset\n",
        "Reviewing the ten lowest *AIC* models, we selected five features for subsequent model development:\n",
        "- **CloseLag3** Lag-three daily closing price\n",
        "- **HMLLag1** Lag-one high minus low daily prices\n",
        "- **OMCLag2** Lag-two open minus closing daily prices\n",
        "- **OMCLag3** Lag-three open minus closing daily prices\n",
        "- **CloseEMA8** Exponential moving average across eight days"
      ]
    },
    {
      "cell_type": "code",
      "execution_count": null,
      "metadata": {
        "id": "nkqp8Rohfx6z",
        "colab": {
          "base_uri": "https://localhost:8080/",
          "height": 685
        },
        "outputId": "c1abfe6c-2b9c-4932-d52b-27f4353b1b38"
      },
      "outputs": [
        {
          "output_type": "stream",
          "name": "stdout",
          "text": [
            "shape: (7, 7)\n",
            "┌───────────┬───────────┬───────────┬──────────┬───────────┬───────────┬───────────┐\n",
            "│ LogReturn ┆ CloseLag1 ┆ CloseLag3 ┆ HMLLag1  ┆ OMCLag2   ┆ OMCLag3   ┆ CloseEMA8 │\n",
            "│ ---       ┆ ---       ┆ ---       ┆ ---      ┆ ---       ┆ ---       ┆ ---       │\n",
            "│ f64       ┆ f64       ┆ f64       ┆ f64      ┆ f64       ┆ f64       ┆ f64       │\n",
            "╞═══════════╪═══════════╪═══════════╪══════════╪═══════════╪═══════════╪═══════════╡\n",
            "│ NaN       ┆ NaN       ┆ NaN       ┆ NaN      ┆ NaN       ┆ NaN       ┆ NaN       │\n",
            "│ NaN       ┆ 1.0       ┆ 0.995523  ┆ 0.342705 ┆ -0.025928 ┆ -0.024063 ┆ 0.9955    │\n",
            "│ NaN       ┆ 0.995523  ┆ 1.0       ┆ 0.363451 ┆ 0.031406  ┆ -0.037188 ┆ 0.997328  │\n",
            "│ NaN       ┆ 0.342705  ┆ 0.363451  ┆ 1.0      ┆ 0.144599  ┆ 0.068321  ┆ 0.367505  │\n",
            "│ NaN       ┆ -0.025928 ┆ 0.031406  ┆ 0.144599 ┆ 1.0       ┆ -0.089441 ┆ 0.009841  │\n",
            "│ NaN       ┆ -0.024063 ┆ -0.037188 ┆ 0.068321 ┆ -0.089441 ┆ 1.0       ┆ 0.004448  │\n",
            "│ NaN       ┆ 0.9955    ┆ 0.997328  ┆ 0.367505 ┆ 0.009841  ┆ 0.004448  ┆ 1.0       │\n",
            "└───────────┴───────────┴───────────┴──────────┴───────────┴───────────┴───────────┘\n"
          ]
        },
        {
          "output_type": "display_data",
          "data": {
            "text/plain": [
              "<Figure size 640x480 with 2 Axes>"
            ],
            "image/png": "[encoded data removed]"
          },
          "metadata": {}
        }
      ],
      "source": [
        "# examine relationships among five selected features, along with LogReturn and CloseLag1\n",
        "XStudy = wti.select('LogReturn','CloseLag1','CloseLag3','HMLLag1','OMCLag2','OMCLag3','CloseEMA8')\n",
        "\n",
        "# prepare correlation heat map using seaborn\n",
        "corrMatrix = XStudy.corr()\n",
        "print(corrMatrix)\n",
        "sns.heatmap(corrMatrix, cmap='coolwarm', annot=True)\n",
        "plt.show()"
      ]
    },
    {
      "cell_type": "code",
      "execution_count": null,
      "metadata": {
        "id": "oQYLWkh-fx60"
      },
      "outputs": [],
      "source": [
        "# select subset of five columns as features\n",
        "X = wti.select('CloseLag3','HMLLag1','OMCLag2','OMCLag3','CloseEMA8')"
      ]
    },
    {
      "cell_type": "markdown",
      "metadata": {
        "id": "dRL2BtNCfx60"
      },
      "source": [
        "### Define Cross-Validation Training and Test Sets\n",
        "Recognizing that time series observations are not independent observations, we use Scikit-Learn [TimeSeriesSplit](https://scikit-learn.org/stable/modules/generated/sklearn.model_selection.TimeSeriesSplit.html) for cross-validation.\n",
        "\n",
        "This cross-validation object is a variation of multi-fold cross-validation for independent observations. In the kth split, it returns first k folds as train set and the (k+1)th fold as test set.\n",
        "\n",
        "Unlike cross-validation for independent observations, however, successive training sets are supersets of those that come before them. A listing of observation index numbers shows what this means for the time series market data in this demonstration.\n"
      ]
    },
    {
      "cell_type": "code",
      "execution_count": null,
      "metadata": {
        "id": "ucfUUptBfx60",
        "colab": {
          "base_uri": "https://localhost:8080/"
        },
        "outputId": "faf15317-2a4c-4839-f3cd-a83ee622c939"
      },
      "outputs": [
        {
          "output_type": "stream",
          "name": "stdout",
          "text": [
            "type(all_splits): <class 'list'>  outer list length 5\n",
            "\n",
            "train_0 has 1026 with indices from  0 to 1025\n",
            "test_0 has 1035 with indices from  1036 to 2070\n",
            "\n",
            "train_1 has 2061 with indices from  0 to 2060\n",
            "test_1 has 1035 with indices from  2071 to 3105\n",
            "\n",
            "train_2 has 3096 with indices from  0 to 3095\n",
            "test_2 has 1035 with indices from  3106 to 4140\n",
            "\n",
            "train_3 has 4131 with indices from  0 to 4130\n",
            "test_3 has 1035 with indices from  4141 to 5175\n",
            "\n",
            "train_4 has 5166 with indices from  0 to 5165\n",
            "test_4 has 1035 with indices from  5176 to 6210\n"
          ]
        }
      ],
      "source": [
        "# Splitting the datasets into train and test sets\n",
        "# gap is the number of samples to exclude from\n",
        "# the end of each train set and before the next test set.\n",
        "tscv = TimeSeriesSplit(gap=10, n_splits=5)\n",
        "\n",
        "all_splits = list(tscv.split(X, y))\n",
        "train_0, test_0 = all_splits[0]\n",
        "train_1, test_1 = all_splits[1]\n",
        "train_2, test_2 = all_splits[2]\n",
        "train_3, test_3 = all_splits[3]\n",
        "train_4, test_4 = all_splits[4]\n",
        "\n",
        "# examine the objects created for cross-validation splits\n",
        "print(\"type(all_splits):\", type(all_splits), \" outer list length\", len(all_splits))\n",
        "print()\n",
        "print(\"train_0 has\",len(train_0),\"with indices from \",min(train_0),\"to\",max(train_0))\n",
        "print(\"test_0 has\",len(test_0),\"with indices from \",min(test_0),\"to\",max(test_0))\n",
        "print()\n",
        "print(\"train_1 has\",len(train_1),\"with indices from \",min(train_1),\"to\",max(train_1))\n",
        "print(\"test_1 has\",len(test_1),\"with indices from \",min(test_1),\"to\",max(test_1))\n",
        "print()\n",
        "print(\"train_2 has\",len(train_2),\"with indices from \",min(train_2),\"to\",max(train_2))\n",
        "print(\"test_2 has\",len(test_2),\"with indices from \",min(test_2),\"to\",max(test_2))\n",
        "print()\n",
        "print(\"train_3 has\",len(train_3),\"with indices from \",min(train_3),\"to\",max(train_3))\n",
        "print(\"test_3 has\",len(test_3),\"with indices from \",min(test_3),\"to\",max(test_3))\n",
        "print()\n",
        "print(\"train_4 has\",len(train_4),\"with indices from \",min(train_4),\"to\",max(train_4))\n",
        "print(\"test_4 has\",len(test_4),\"with indices from \",min(test_4),\"to\",max(test_4))\n",
        "\n",
        "# to see all indices we can uncomment these statements\n",
        "# print(\"elements of all_splits list of lists,\\n shows index numbers for each the five lists\")\n",
        "# print(all_splits)"
      ]
    },
    {
      "cell_type": "markdown",
      "metadata": {
        "id": "CHame1Ivfx60"
      },
      "source": [
        "### Define an Initial Classification Model to Be Evaluated¶\n",
        "We again select gradient boosting from the XGBoost package, this time defining a classification model to be evaluated. Hyperparameters are retained at defauld settings, except for n_estimators."
      ]
    },
    {
      "cell_type": "code",
      "execution_count": null,
      "metadata": {
        "id": "n-FRQ9_0fx60"
      },
      "outputs": [],
      "source": [
        "model = XGBClassifier(objective='binary:logistic', n_estimators=1000, random_state=2025)"
      ]
    },
    {
      "cell_type": "markdown",
      "metadata": {
        "id": "th_5fR06fx60"
      },
      "source": [
        "### Evaluate a Classification Model Within the Time Series Cross-Validation Design\n",
        "Prior to executing a full-blown search for the \"best\" classification model, we test the cross-validation design on a binary classification model, revising code provided in online documentation for Scikit-Learn: [Time-related feature engineerng](https://scikit-learn.org/stable/auto_examples/applications/plot_cyclical_feature_engineering.html#sphx-glr-auto-examples-applications-plot-cyclical-feature-engineering-py). In particular, we define appropriate metrics for assessing classification performance."
      ]
    },
    {
      "cell_type": "code",
      "execution_count": null,
      "metadata": {
        "id": "mQMYphwgfx60",
        "colab": {
          "base_uri": "https://localhost:8080/"
        },
        "outputId": "c1bd1c77-0124-45cf-9665-de4fd7caa9e9"
      },
      "outputs": [
        {
          "output_type": "stream",
          "name": "stdout",
          "text": [
            "Mean model.n_estimators = 1000.0\n"
          ]
        },
        {
          "output_type": "execute_result",
          "data": {
            "text/plain": [
              "(np.float64(0.4993236714975845), np.float64(0.015951102673228176))"
            ]
          },
          "metadata": {},
          "execution_count": 18
        }
      ],
      "source": [
        "def evaluate(model, X, y, cv, model_prop=None, model_step=None):\n",
        "    cv_results = cross_validate(\n",
        "        model,\n",
        "        X,\n",
        "        y,\n",
        "        cv=cv,\n",
        "        scoring=[\"accuracy\"],\n",
        "        return_estimator=model_prop is not None,\n",
        "    )\n",
        "    if model_prop is not None:\n",
        "        if model_step is not None:\n",
        "            values = [\n",
        "                getattr(m[model_step], model_prop) for m in cv_results[\"estimator\"]\n",
        "            ]\n",
        "        else:\n",
        "            values = [getattr(m, model_prop) for m in cv_results[\"estimator\"]]\n",
        "        print(f\"Mean model.{model_prop} = {np.mean(values)}\")\n",
        "    accuracy = -cv_results[\"test_accuracy\"]\n",
        "\n",
        "    # print used in earlier testing\n",
        "    # print(\n",
        "    #    f\"Mean Accuracy:     {-accuracy.mean():.3f} +/- {accuracy.std():.3f}\\n\"\n",
        "    # )\n",
        "    return (-accuracy.mean(), accuracy.std())\n",
        "\n",
        "evaluate(model, X, y, cv=tscv, model_prop=\"n_estimators\")\n",
        "\n"
      ]
    },
    {
      "cell_type": "code",
      "execution_count": null,
      "metadata": {
        "id": "Y4hAnP9Afx60",
        "colab": {
          "base_uri": "https://localhost:8080/"
        },
        "outputId": "d0878028-7f26-4c9e-e7a2-7d5c707dff14"
      },
      "outputs": [
        {
          "output_type": "stream",
          "name": "stdout",
          "text": [
            "Mean model.n_estimators = 1000.0\n",
            "Mean Accuracy:     0.499 +/- 0.016\n",
            "\n"
          ]
        }
      ],
      "source": [
        "# print results from evaluate\n",
        "accuracyMean, accuracyStd = evaluate(model, X, y, cv=tscv, model_prop=\"n_estimators\")\n",
        "print(\n",
        "        f\"Mean Accuracy:     {accuracyMean:.3f} +/- {accuracyStd:.3f}\\n\"\n",
        "     )"
      ]
    },
    {
      "cell_type": "markdown",
      "metadata": {
        "id": "w-4lOPZLfx60"
      },
      "source": [
        "### Randomized Search for Hyperparameter Settings\n",
        "We search for effective values on five XGBoost hyperparameters: **max_depth**, **min_child_weight**, **subsample**, **learning_rate**, and **n_estimators**."
      ]
    },
    {
      "cell_type": "code",
      "execution_count": null,
      "metadata": {
        "id": "Eao3I01Pfx60",
        "colab": {
          "base_uri": "https://localhost:8080/"
        },
        "outputId": "151355d7-18fb-437f-d95a-38639e1c2f6a"
      },
      "outputs": [
        {
          "output_type": "stream",
          "name": "stdout",
          "text": [
            "Best parameters: {'learning_rate': np.float64(0.02102489977664164), 'max_depth': 5, 'min_child_weight': 9, 'n_estimators': 521, 'subsample': np.float64(0.7824986004876725)}\n",
            "Best score: 0.5155555555555555\n"
          ]
        }
      ],
      "source": [
        "# Randomized search to find the best set of hyperparameters\n",
        "\n",
        "param_dist = {\n",
        "    'max_depth': randint(3, 10),\n",
        "    'min_child_weight': randint(1, 10),\n",
        "    'subsample': uniform(0.5, 1),\n",
        "    'learning_rate': uniform(0.01, 0.1),\n",
        "    'n_estimators': randint(100, 1000),\n",
        "}\n",
        "xgb_model = xgb.XGBClassifier(objective='binary:logistic', use_label_encoder=False, eval_metric='logloss', random_state=2025)\n",
        "\n",
        "random_search = RandomizedSearchCV(\n",
        "    estimator=xgb_model,\n",
        "    param_distributions=param_dist,\n",
        "    n_iter=100, # Number of parameter settings that are sampled.\n",
        "    scoring='accuracy',\n",
        "    cv = TimeSeriesSplit(gap=10, n_splits=5),\n",
        "    random_state=2025,\n",
        "    n_jobs=-1 # Use all available cores\n",
        ")\n",
        "\n",
        "random_search.fit(X, y)\n",
        "\n",
        "print(\"Best parameters:\", random_search.best_params_)\n",
        "print(\"Best score:\", random_search.best_score_)"
      ]
    },
    {
      "cell_type": "markdown",
      "metadata": {
        "id": "hHh5vgHOfx60"
      },
      "source": [
        "### Evaluate the Model\n",
        "We define define an XGBoost subset model with these hyperparameter values and evaluate on the full data set."
      ]
    },
    {
      "cell_type": "code",
      "execution_count": null,
      "metadata": {
        "id": "XJSemA8Xfx60",
        "colab": {
          "base_uri": "https://localhost:8080/",
          "height": 469
        },
        "outputId": "5a81122e-a082-4f3a-8b20-51b40307db29"
      },
      "outputs": [
        {
          "output_type": "execute_result",
          "data": {
            "text/plain": [
              "<sklearn.metrics._plot.roc_curve.RocCurveDisplay at 0x7b696e5e1590>"
            ]
          },
          "metadata": {},
          "execution_count": 21
        },
        {
          "output_type": "display_data",
          "data": {
            "text/plain": [
              "<Figure size 640x480 with 1 Axes>"
            ],
            "image/png": "[encoded data removed]"
          },
          "metadata": {}
        }
      ],
      "source": [
        "# final model evaluation\n",
        "finalModel = XGBClassifier(objective='binary:logistic', eval_metric='logloss', random_state=2025,\n",
        "                          max_depth = 9, min_child_weight = 9, subsample = 0.50, learning_rate = 0.09, n_estimators = 273)\n",
        "\n",
        "finalModel.fit(X, y)\n",
        "ypred = finalModel.predict(X)\n",
        "RocCurveDisplay.from_predictions(y, ypred)\n"
      ]
    },
    {
      "cell_type": "code",
      "execution_count": null,
      "metadata": {
        "id": "A0aVlAkXfx61",
        "colab": {
          "base_uri": "https://localhost:8080/",
          "height": 541
        },
        "outputId": "005f7d13-2628-47a9-aa53-e670d990b35b"
      },
      "outputs": [
        {
          "output_type": "stream",
          "name": "stdout",
          "text": [
            "Confusion Matrix\n",
            "[[2401  580]\n",
            " [ 447 2783]]\n"
          ]
        },
        {
          "output_type": "display_data",
          "data": {
            "text/plain": [
              "<Figure size 640x480 with 2 Axes>"
            ],
            "image/png": "[encoded data removed]"
          },
          "metadata": {}
        }
      ],
      "source": [
        "print(\"Confusion Matrix\")\n",
        "print(confusion_matrix(y, ypred))\n",
        "disp = ConfusionMatrixDisplay.from_predictions(y, ypred,\n",
        "                              display_labels =[\"Negative Return\",\"Positive Return\"],\n",
        "                                              cmap = plt.cm.Blues)\n",
        "plt.title(\"Confusion Matrix for Returns\")\n",
        "plt.xlabel(\"Predicted Return\")\n",
        "plt.ylabel(\"Actual Return\")\n",
        "plt.tight_layout()\n",
        "plt.show()"
      ]
    },
    {
      "cell_type": "code",
      "execution_count": null,
      "metadata": {
        "id": "cqJNFRT0fx7I",
        "colab": {
          "base_uri": "https://localhost:8080/"
        },
        "outputId": "747c3b13-d751-46d1-c072-1dfdc0c9855b"
      },
      "outputs": [
        {
          "output_type": "stream",
          "name": "stdout",
          "text": [
            "              precision    recall  f1-score   support\n",
            "\n",
            "           0       0.84      0.81      0.82      2981\n",
            "           1       0.83      0.86      0.84      3230\n",
            "\n",
            "   micro avg       0.83      0.83      0.83      6211\n",
            "   macro avg       0.84      0.83      0.83      6211\n",
            "weighted avg       0.83      0.83      0.83      6211\n",
            "\n"
          ]
        }
      ],
      "source": [
        "print(classification_report(y, ypred, labels = [\"0\",\"1\"]))"
      ]
    },
    {
      "cell_type": "markdown",
      "metadata": {
        "id": "mwQvcKxifx7I"
      },
      "source": [
        "## References\n",
        "\n",
        "* [yfinance GitHub](https://github.com/ranaroussi/yfinance)\n",
        "* [yfinance Documentation](https://ranaroussi.github.io/yfinance/)\n",
        "* [Polars Online User Guide](https://docs.pola.rs/)\n",
        "* [Build Polars Database](https://www.pyquantnews.com/free-python-resources/build-stock-database-locally-with-polars)\n",
        "* [YouTube. Polars and Time Series: What It Can Do, and How to Overcome Any Limitation](https://www.youtube.com/watch?v=qz-zAHBz6Ks)\n",
        "* [Awesome Quant: Python for Quantiative Finance](https://wilsonfreitas.github.io/awesome-quant/)\n",
        "* [Cross-validation](https://scikit-learn.org/stable/modules/cross_validation.html)\n",
        "* [TimeSeriesSplit](https://scikit-learn.org/stable/modules/generated/sklearn.model_selection.TimeSeriesSplit.html)\n",
        "* [RandomizedSearchCV](https://scikit-learn.org/stable/modules/generated/sklearn.model_selection.RandomizedSearchCV.html)\n",
        "* [Hyperparameter Tuning](https://scikit-learn.org/stable/modules/grid_search.html#grid-search)\n",
        "* [Metrics and Scoring](https://scikit-learn.org/stable/modules/model_evaluation.html#scoring-parameter)\n",
        "* [Introduction to Boosted Trees](https://xgboost.readthedocs.io/en/latest/tutorials/model.html)\n",
        "* [XGBoost documentation](https://xgboost.readthedocs.io/en/latest/index.html)\n",
        "* [XGBoost in Python documentation](https://xgboost-clone.readthedocs.io/en/latest/python/python_intro.html)\n",
        "* [Auto-Sklearn for AutoML in an Scikit-Learn Environment](https://www.automl.org/automl-for-x/tabular-data/auto-sklearn/)."
      ]
    },
    {
      "cell_type": "markdown",
      "metadata": {
        "id": "7dLN1z3ofx7I"
      },
      "source": [
        "# Additional Modeling Section\n",
        "\n",
        "This section builds upon the jump-start notebook by adding advanced modeling techniques:\n",
        "- Training an XGBoost classifier\n",
        "- Time-series-aware cross-validation\n",
        "- Hyperparameter tuning using randomized search\n",
        "- Model evaluation using ROC AUC and confusion matrix\n",
        "- Feature importance visualization"
      ]
    },
    {
      "cell_type": "markdown",
      "metadata": {
        "id": "R639WwU7fx7I"
      },
      "source": [
        "## Plotting Feature Importance\n",
        "\n",
        "This function plots a bar chart to visualize which features are most important to the trained model.\n",
        "It uses the model's `.feature_importances_` attribute and the corresponding feature names."
      ]
    },
    {
      "cell_type": "code",
      "execution_count": null,
      "metadata": {
        "id": "d_BjSbUtfx7I"
      },
      "outputs": [],
      "source": [
        "# Plotting feature importance using matplotlib and seaborn\n",
        "import matplotlib.pyplot as plt\n",
        "import seaborn as sns\n",
        "import pandas as pd\n",
        "\n",
        "def plot_feature_importance(model, feature_names):\n",
        "    '''\n",
        "    Plots a bar chart showing feature importance for a trained model.\n",
        "\n",
        "    Parameters:\n",
        "    - model: a trained XGBoost classifier or similar model with feature_importances_ attribute\n",
        "    - feature_names: list of column names used in model training\n",
        "    '''\n",
        "    importance = model.feature_importances_\n",
        "    importance_df = pd.DataFrame({\n",
        "        'Feature': feature_names,\n",
        "        'Importance': importance\n",
        "    }).sort_values(by='Importance', ascending=False)\n",
        "\n",
        "    plt.figure(figsize=(10, 6))\n",
        "    sns.barplot(x='Importance', y='Feature', data=importance_df)\n",
        "    plt.title('Feature Importance')\n",
        "    plt.tight_layout()\n",
        "    plt.show()\n"
      ]
    },
    {
      "cell_type": "markdown",
      "metadata": {
        "id": "_r2q_JAPfx7I"
      },
      "source": [
        "## Time Series Cross-Validation with XGBoost\n",
        "\n",
        "We train an XGBoost model using 5-fold time series cross-validation.\n",
        "This ensures our validation respects the chronological order of data.\n",
        "We evaluate performance using AUC (Area Under the ROC Curve)."
      ]
    },
    {
      "cell_type": "code",
      "source": [
        "# Generate lag features for Close price\n",
        "for lag in range(1, 6):\n",
        "    wti = wti.with_columns(\n",
        "        (pl.col(\"Close\").shift(lag)).alias(f\"CloseLag{lag}\")\n",
        "    )\n",
        "\n",
        "# Drop rows with any missing values (created by shifting)\n",
        "wti = wti.drop_nulls()"
      ],
      "metadata": {
        "id": "3ZsaAwDre27L"
      },
      "execution_count": 28,
      "outputs": []
    },
    {
      "cell_type": "code",
      "source": [
        "# Step 1: Select features and target from Polars DataFrame\n",
        "# We assume lag features and 'Target' column already exist in 'wti'\n",
        "feature_cols = ['CloseLag1', 'CloseLag2', 'CloseLag3', 'CloseLag5']\n",
        "target_col = 'Target'\n",
        "\n",
        "X_polars = wti.select(feature_cols)\n",
        "target = wti[target_col]\n",
        "\n",
        "# Step 2: Convert Polars to Pandas (scikit-learn does not support Polars)\n",
        "X = X_polars.to_pandas()\n",
        "y = target.to_pandas()\n",
        "\n",
        "# Step 3: Standardize the features using scikit-learn\n",
        "from sklearn.preprocessing import StandardScaler\n",
        "scaler = StandardScaler()\n",
        "X_scaled = scaler.fit_transform(X)\n",
        "\n",
        "# Step 4: Import and train XGBoost model with time-series-aware cross-validation\n",
        "from xgboost import XGBClassifier\n",
        "from sklearn.model_selection import TimeSeriesSplit, cross_val_score\n",
        "from sklearn.metrics import roc_auc_score\n",
        "\n",
        "# Create 5-fold time series split\n",
        "tscv = TimeSeriesSplit(n_splits=5)\n",
        "xgb = XGBClassifier(random_state=42, use_label_encoder=False, eval_metric='logloss')\n",
        "\n",
        "# Perform cross-validation with ROC AUC scoring\n",
        "auc_scores = cross_val_score(xgb, X_scaled, y, cv=tscv, scoring='roc_auc')\n",
        "\n",
        "# Display average AUC\n",
        "print(f\"Average AUC from 5-fold time-series CV: {auc_scores.mean():.4f}\")\n"
      ],
      "metadata": {
        "colab": {
          "base_uri": "https://localhost:8080/"
        },
        "id": "nvyvPsD0eTp1",
        "outputId": "f6f57ed5-84ab-4012-cc1e-292f2bc74e22"
      },
      "execution_count": 32,
      "outputs": [
        {
          "output_type": "stream",
          "name": "stdout",
          "text": [
            "Average AUC from 5-fold time-series CV: 0.5145\n"
          ]
        }
      ]
    },
    {
      "cell_type": "markdown",
      "metadata": {
        "id": "dYpdV48Dfx7J"
      },
      "source": [
        "## Hyperparameter Tuning with RandomizedSearchCV\n",
        "\n",
        "To improve the model's performance, we apply randomized search over a hyperparameter grid.\n",
        "This tests combinations of max depth, learning rate, number of estimators, etc."
      ]
    },
    {
      "cell_type": "code",
      "execution_count": 33,
      "metadata": {
        "id": "82t7wpxZfx7J",
        "colab": {
          "base_uri": "https://localhost:8080/"
        },
        "outputId": "b83c4ff1-4a36-47ca-c35f-09ab00816d82"
      },
      "outputs": [
        {
          "output_type": "stream",
          "name": "stdout",
          "text": [
            "Fitting 5 folds for each of 20 candidates, totalling 100 fits\n",
            "Best hyperparameters found:\n",
            "{'subsample': 0.9, 'n_estimators': 200, 'min_child_weight': 5, 'max_depth': 3, 'learning_rate': 0.05}\n"
          ]
        }
      ],
      "source": [
        "# Hyperparameter tuning for XGBoost using randomized search\n",
        "from sklearn.model_selection import RandomizedSearchCV\n",
        "\n",
        "param_dist = {\n",
        "    'max_depth': [3, 5, 7, 9],\n",
        "    'min_child_weight': [1, 3, 5, 9],\n",
        "    'subsample': [0.5, 0.7, 0.9],\n",
        "    'learning_rate': [0.01, 0.05, 0.1, 0.15],\n",
        "    'n_estimators': [100, 200, 300]\n",
        "}\n",
        "\n",
        "# Setup randomized search\n",
        "random_search = RandomizedSearchCV(\n",
        "    estimator=xgb,\n",
        "    param_distributions=param_dist,\n",
        "    n_iter=20,\n",
        "    scoring='roc_auc',\n",
        "    cv=tscv,\n",
        "    verbose=1,\n",
        "    random_state=42,\n",
        "    n_jobs=-1\n",
        ")\n",
        "\n",
        "# Fit randomized search on training data\n",
        "random_search.fit(X, y)\n",
        "print(\"Best hyperparameters found:\")\n",
        "print(random_search.best_params_)\n"
      ]
    },
    {
      "cell_type": "markdown",
      "metadata": {
        "id": "yPMPXA5Qfx7J"
      },
      "source": [
        "## Final Model Evaluation and Visualization\n",
        "\n",
        "We evaluate the tuned model on the full dataset:\n",
        "- ROC AUC Score\n",
        "- Classification report (precision, recall, F1-score)\n",
        "- Confusion matrix visualization\n",
        "- Feature importance plot"
      ]
    },
    {
      "cell_type": "code",
      "execution_count": 35,
      "metadata": {
        "id": "5IvL8XXtfx7J",
        "colab": {
          "base_uri": "https://localhost:8080/",
          "height": 1000
        },
        "outputId": "2fefb0c3-44c6-4a30-85f8-5222620008cd"
      },
      "outputs": [
        {
          "output_type": "stream",
          "name": "stdout",
          "text": [
            "AUC: 0.6586664444729469\n",
            "\n",
            "Classification Report:\n",
            "               precision    recall  f1-score   support\n",
            "\n",
            "           0       0.65      0.39      0.49      2979\n",
            "           1       0.59      0.81      0.68      3227\n",
            "\n",
            "    accuracy                           0.61      6206\n",
            "   macro avg       0.62      0.60      0.58      6206\n",
            "weighted avg       0.62      0.61      0.59      6206\n",
            "\n"
          ]
        },
        {
          "output_type": "display_data",
          "data": {
            "text/plain": [
              "<Figure size 640x480 with 2 Axes>"
            ],
            "image/png": "[encoded data removed]"
          },
          "metadata": {}
        },
        {
          "output_type": "display_data",
          "data": {
            "text/plain": [
              "<Figure size 1000x600 with 1 Axes>"
            ],
            "image/png": "[encoded data removed]"
          },
          "metadata": {}
        }
      ],
      "source": [
        "# Evaluate the best model found from random search\n",
        "from sklearn.metrics import classification_report, confusion_matrix, ConfusionMatrixDisplay\n",
        "\n",
        "# Use best model\n",
        "best_model = random_search.best_estimator_\n",
        "\n",
        "# Make predictions\n",
        "y_pred = best_model.predict(X)\n",
        "y_proba = best_model.predict_proba(X)[:, 1]\n",
        "\n",
        "# Print evaluation metrics\n",
        "print(\"AUC:\", roc_auc_score(y, y_proba))\n",
        "print(\"\\nClassification Report:\\n\", classification_report(y, y_pred))\n",
        "\n",
        "# Confusion Matrix\n",
        "cm = confusion_matrix(y, y_pred)\n",
        "disp = ConfusionMatrixDisplay(confusion_matrix=cm, display_labels=[\"Negative\", \"Positive\"])\n",
        "disp.plot(cmap=\"Blues\")\n",
        "plt.title(\"Confusion Matrix\")\n",
        "plt.show()\n",
        "\n",
        "# Feature importance plot\n",
        "plot_feature_importance(best_model, X.columns)"
      ]
    }
  ],
  "metadata": {
    "kernelspec": {
      "display_name": "Python 3 (ipykernel)",
      "language": "python",
      "name": "python3"
    },
    "language_info": {
      "codemirror_mode": {
        "name": "ipython",
        "version": 3
      },
      "file_extension": ".py",
      "mimetype": "text/x-python",
      "name": "python",
      "nbconvert_exporter": "python",
      "pygments_lexer": "ipython3",
      "version": "3.12.2"
    },
    "nbTranslate": {
      "displayLangs": [
        "*"
      ],
      "hotkey": "alt-t",
      "langInMainMenu": true,
      "sourceLang": "en",
      "targetLang": "fr",
      "useGoogleTranslate": true
    },
    "toc": {
      "base_numbering": 1,
      "nav_menu": {},
      "number_sections": true,
      "sideBar": true,
      "skip_h1_title": true,
      "title_cell": "Table of Contents",
      "title_sidebar": "Contents",
      "toc_cell": false,
      "toc_position": {
        "height": "calc(100% - 180px)",
        "left": "10px",
        "top": "150px",
        "width": "341.331543px"
      },
      "toc_section_display": true,
      "toc_window_display": false
    },
    "toc-autonumbering": false,
    "toc-showtags": false,
    "varInspector": {
      "cols": {
        "lenName": 16,
        "lenType": 16,
        "lenVar": 40
      },
      "kernels_config": {
        "python": {
          "delete_cmd_postfix": "",
          "delete_cmd_prefix": "del ",
          "library": "var_list.py",
          "varRefreshCmd": "print(var_dic_list())"
        },
        "r": {
          "delete_cmd_postfix": ") ",
          "delete_cmd_prefix": "rm(",
          "library": "var_list.r",
          "varRefreshCmd": "cat(var_dic_list()) "
        }
      },
      "types_to_exclude": [
        "module",
        "function",
        "builtin_function_or_method",
        "instance",
        "_Feature"
      ],
      "window_display": false
    },
    "colab": {
      "provenance": []
    }
  },
  "nbformat": 4,
  "nbformat_minor": 0
}